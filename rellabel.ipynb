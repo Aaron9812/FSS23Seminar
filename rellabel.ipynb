{
 "cells": [
  {
   "cell_type": "code",
   "execution_count": 1,
   "metadata": {},
   "outputs": [],
   "source": [
    "import pandas as pd\n",
    "import os "
   ]
  },
  {
   "cell_type": "code",
   "execution_count": 2,
   "metadata": {},
   "outputs": [],
   "source": [
    "def clean_response(response):\n",
    "    if \"yes\" in response.lower():\n",
    "        return 1\n",
    "    elif \"no\" in response.lower():\n",
    "        return 0\n",
    "    else:\n",
    "        return -1"
   ]
  },
  {
   "cell_type": "code",
   "execution_count": 5,
   "metadata": {},
   "outputs": [
    {
     "name": "stdout",
     "output_type": "stream",
     "text": [
      "['2023-04-24 23:14:41.891312_simple_promt.json', '2023-04-24 15:02:00.699488_simple_promt.json', '2023-04-24 14:25:55.380921_simple_promt.json', '2023-04-24 17:20:03.458940_simple_promt.json', '2023-04-24 23:03:40.253730_simple_promt.json', '2023-04-24 14:07:15.991068_simple_promt_51.json', '2023-04-24 14:38:12.911326_simple_promt.json', '2023-04-24 23:19:00.824610_simple_promt.json', '2023-04-24 15:06:23.809429_simple_promt.json', '2023-04-24 14:21:49.748864_simple_promt.json', '2023-04-24 14:13:46.243056_simple_promt.json', '2023-04-24 23:23:11.350576_simple_promt.json', '2023-04-24 14:42:51.985468_simple_promt.json', '2023-04-24 16:08:16.804316_simple_promt.json']\n"
     ]
    }
   ],
   "source": [
    "# get all json files in the data/results/chat_gpt directory\n",
    "files = [f for f in os.listdir(\"data/results/chat_gpt\") if f.endswith(\".json\")]\n",
    "print(files)"
   ]
  },
  {
   "cell_type": "code",
   "execution_count": null,
   "metadata": {},
   "outputs": [],
   "source": []
  }
 ],
 "metadata": {
  "kernelspec": {
   "display_name": "env",
   "language": "python",
   "name": "python3"
  },
  "language_info": {
   "codemirror_mode": {
    "name": "ipython",
    "version": 3
   },
   "file_extension": ".py",
   "mimetype": "text/x-python",
   "name": "python",
   "nbconvert_exporter": "python",
   "pygments_lexer": "ipython3",
   "version": "3.9.6"
  },
  "orig_nbformat": 4
 },
 "nbformat": 4,
 "nbformat_minor": 2
}
